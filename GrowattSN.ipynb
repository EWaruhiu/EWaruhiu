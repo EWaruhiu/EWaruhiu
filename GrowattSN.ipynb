{
  "nbformat": 4,
  "nbformat_minor": 0,
  "metadata": {
    "colab": {
      "provenance": [],
      "private_outputs": true,
      "authorship_tag": "ABX9TyOOmQRtS41e8XixSEFMT+As",
      "include_colab_link": true
    },
    "kernelspec": {
      "name": "python3",
      "display_name": "Python 3"
    },
    "language_info": {
      "name": "python"
    },
    "gpuClass": "standard"
  },
  "cells": [
    {
      "cell_type": "markdown",
      "metadata": {
        "id": "view-in-github",
        "colab_type": "text"
      },
      "source": [
        "<a href=\"https://colab.research.google.com/github/EWaruhiu/EWaruhiu/blob/GrowattSN/GrowattSN.ipynb\" target=\"_parent\"><img src=\"https://colab.research.google.com/assets/colab-badge.svg\" alt=\"Open In Colab\"/></a>"
      ]
    },
    {
      "cell_type": "code",
      "execution_count": null,
      "metadata": {
        "id": "kQXegAPeotp7"
      },
      "outputs": [],
      "source": [
        "\n",
        "sn = input('Please enter the Growatt inverter serial number: ')\n",
        "SN = [sn[i:i+2] for i in range(0,len(sn), 2)]\n",
        "start = 23\n",
        "for i in SN:\n",
        "   print(start, ' -> ', str(int(i.encode('utf-8').hex(), base=16)))\n",
        "   start += 1"
      ]
    }
  ]
}