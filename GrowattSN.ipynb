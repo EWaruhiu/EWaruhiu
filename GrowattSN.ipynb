{
  "nbformat": 4,
  "nbformat_minor": 0,
  "metadata": {
    "colab": {
      "provenance": [],
      "authorship_tag": "ABX9TyOOmQRtS41e8XixSEFMT+As"
    },
    "kernelspec": {
      "name": "python3",
      "display_name": "Python 3"
    },
    "language_info": {
      "name": "python"
    }
  },
  "cells": [
    {
      "cell_type": "code",
      "execution_count": null,
      "metadata": {
        "colab": {
          "base_uri": "https://localhost:8080/"
        },
        "id": "kQXegAPeotp7",
        "outputId": "4fa5d697-aa68-4300-c5c0-942ac81a76b3"
      },
      "outputs": [
        {
          "output_type": "stream",
          "name": "stdout",
          "text": [
            "Please enter the Growatt inverter serial number: GJGBB04007\n",
            "23  ->  18250\n",
            "24  ->  18242\n",
            "25  ->  16944\n",
            "26  ->  13360\n",
            "27  ->  12343\n"
          ]
        }
      ],
      "source": [
        "\n",
        "sn = input('Please enter the Growatt inverter serial number: ')\n",
        "SN = [sn[i:i+2] for i in range(0,len(sn), 2)]\n",
        "start = 23\n",
        "for i in SN:\n",
        "   print(start, ' -> ', str(int(i.encode('utf-8').hex(), base=16)))\n",
        "   start += 1"
      ]
    }
  ]
}